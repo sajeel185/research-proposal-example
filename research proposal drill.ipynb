{
 "cells": [
  {
   "cell_type": "markdown",
   "metadata": {},
   "source": [
    "# Research Proposal regarding Jedi Public Relations\n",
    "\n",
    "This research proposal will be divided into three parts: The Problem, The potential solution, and a method for testing the solution.\n",
    "\n",
    "### The problem\n",
    "\n",
    "How do we improve public relations with the Jedi?  Having bad public relaions with the public can lead to less public support for the Jedi.  This makes it more difficult for the Jedi to be successful at their noble work.  We can assume that the ways of the Jedi are mysterious to the general public, and maybe a reason for the difficult public relations.\n",
    "\n",
    "### The potential solution\n",
    "\n",
    "Aligning the goals of the Jedi with the public by creating more awareness of the Jedi origins, history, and methodology will improve public relations.\n",
    "\n",
    "### Method for testing\n",
    "\n",
    "Pick two of the four unfriendly planets and set up town hall style meetings over a period of three months in multiple locations in those two planets between knowledable Jedi envoys and the public.  During the town hall style meetings the envoys will answer any questions and try to remove any insecurities among the public by sharing Jedi goals, history, and methodology. The variable of interest here would be percentage of public support in the the two unfriendly planets where the town hall meetings were setup, and also in the two unfriendly planets that were left alone by the Jedi.\n",
    "\n",
    "We will take a poll from random participants selected from throughout the four unfriendly planets to gauge pubic support before the Jedi start their town hall meetings, and compare that to to poll results taken from the four unfriendly planets after the meetings.  This will tell us how much public support changed in the two planets in which the Jedi held the town hall meetings, and the change in the two unfriendly planets that were left alone.\n",
    "\n",
    "If after the three months we get a poll result suggesting 5% or more improvement in Jedi public relations in the planets where the Jedi held public town hall meetings, we can coclude that should hold more pubic meetings with all unfriendly planets to improve public relations.  If however the improvement is less than 10% (or no change), we can change envoys and continue setting up meetings for another 3 months.  If after another three months the public support still doesn't significantly improve, we can say that townhall meetings are ineffective in improving the public relations.  We will have to look at other avenues to improve public relation."
   ]
  }
 ],
 "metadata": {
  "kernelspec": {
   "display_name": "Python 3",
   "language": "python",
   "name": "python3"
  },
  "language_info": {
   "codemirror_mode": {
    "name": "ipython",
    "version": 3
   },
   "file_extension": ".py",
   "mimetype": "text/x-python",
   "name": "python",
   "nbconvert_exporter": "python",
   "pygments_lexer": "ipython3",
   "version": "3.7.0"
  }
 },
 "nbformat": 4,
 "nbformat_minor": 2
}
